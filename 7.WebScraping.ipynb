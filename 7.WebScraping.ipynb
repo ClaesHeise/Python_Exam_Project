{
 "cells": [
  {
   "cell_type": "code",
   "execution_count": 42,
   "metadata": {},
   "outputs": [
    {
     "ename": "TimeoutException",
     "evalue": "Message: \nStacktrace:\nBacktrace:\n\tGetHandleVerifier [0x0079DCE3+50899]\n\t(No symbol) [0x0072E111]\n\t(No symbol) [0x00635588]\n\t(No symbol) [0x006608F9]\n\t(No symbol) [0x00660AFB]\n\t(No symbol) [0x0068F902]\n\t(No symbol) [0x0067B944]\n\t(No symbol) [0x0068E01C]\n\t(No symbol) [0x0067B6F6]\n\t(No symbol) [0x00657708]\n\t(No symbol) [0x0065886D]\n\tGetHandleVerifier [0x00A03EAE+2566302]\n\tGetHandleVerifier [0x00A392B1+2784417]\n\tGetHandleVerifier [0x00A3327C+2759788]\n\tGetHandleVerifier [0x00835740+672048]\n\t(No symbol) [0x00738872]\n\t(No symbol) [0x007341C8]\n\t(No symbol) [0x007342AB]\n\t(No symbol) [0x007271B7]\n\tBaseThreadInitThunk [0x77227D49+25]\n\tRtlInitializeExceptionChain [0x7786B74B+107]\n\tRtlClearBits [0x7786B6CF+191]\n",
     "output_type": "error",
     "traceback": [
      "\u001b[1;31m---------------------------------------------------------------------------\u001b[0m",
      "\u001b[1;31mTimeoutException\u001b[0m                          Traceback (most recent call last)",
      "Cell \u001b[1;32mIn[42], line 19\u001b[0m\n\u001b[0;32m     15\u001b[0m cookie_popup\u001b[39m.\u001b[39mclick()\n\u001b[0;32m     18\u001b[0m \u001b[39m# wait for the grid to appear\u001b[39;00m\n\u001b[1;32m---> 19\u001b[0m grid \u001b[39m=\u001b[39m WebDriverWait(driver, \u001b[39m20\u001b[39;49m)\u001b[39m.\u001b[39;49muntil(\n\u001b[0;32m     20\u001b[0m     EC\u001b[39m.\u001b[39;49mpresence_of_element_located((By\u001b[39m.\u001b[39;49mID, \u001b[39m\"\u001b[39;49m\u001b[39m_grid\u001b[39;49m\u001b[39m\"\u001b[39;49m)))\n\u001b[0;32m     22\u001b[0m \u001b[39m# extract the data from the grid using BeautifulSoup\u001b[39;00m\n\u001b[0;32m     23\u001b[0m soup \u001b[39m=\u001b[39m BeautifulSoup(driver\u001b[39m.\u001b[39mpage_source, \u001b[39m'\u001b[39m\u001b[39mhtml.parser\u001b[39m\u001b[39m'\u001b[39m)\n",
      "File \u001b[1;32m~\\AppData\\Local\\Packages\\PythonSoftwareFoundation.Python.3.10_qbz5n2kfra8p0\\LocalCache\\local-packages\\Python310\\site-packages\\selenium\\webdriver\\support\\wait.py:95\u001b[0m, in \u001b[0;36mWebDriverWait.until\u001b[1;34m(self, method, message)\u001b[0m\n\u001b[0;32m     93\u001b[0m     \u001b[39mif\u001b[39;00m time\u001b[39m.\u001b[39mmonotonic() \u001b[39m>\u001b[39m end_time:\n\u001b[0;32m     94\u001b[0m         \u001b[39mbreak\u001b[39;00m\n\u001b[1;32m---> 95\u001b[0m \u001b[39mraise\u001b[39;00m TimeoutException(message, screen, stacktrace)\n",
      "\u001b[1;31mTimeoutException\u001b[0m: Message: \nStacktrace:\nBacktrace:\n\tGetHandleVerifier [0x0079DCE3+50899]\n\t(No symbol) [0x0072E111]\n\t(No symbol) [0x00635588]\n\t(No symbol) [0x006608F9]\n\t(No symbol) [0x00660AFB]\n\t(No symbol) [0x0068F902]\n\t(No symbol) [0x0067B944]\n\t(No symbol) [0x0068E01C]\n\t(No symbol) [0x0067B6F6]\n\t(No symbol) [0x00657708]\n\t(No symbol) [0x0065886D]\n\tGetHandleVerifier [0x00A03EAE+2566302]\n\tGetHandleVerifier [0x00A392B1+2784417]\n\tGetHandleVerifier [0x00A3327C+2759788]\n\tGetHandleVerifier [0x00835740+672048]\n\t(No symbol) [0x00738872]\n\t(No symbol) [0x007341C8]\n\t(No symbol) [0x007342AB]\n\t(No symbol) [0x007271B7]\n\tBaseThreadInitThunk [0x77227D49+25]\n\tRtlInitializeExceptionChain [0x7786B74B+107]\n\tRtlClearBits [0x7786B6CF+191]\n"
     ]
    }
   ],
   "source": [
    "from selenium import webdriver\n",
    "from selenium.webdriver.common.by import By\n",
    "from selenium.webdriver.support.ui import WebDriverWait\n",
    "from selenium.webdriver.support import expected_conditions as EC\n",
    "from bs4 import BeautifulSoup\n",
    "\n",
    "# set up the browser\n",
    "driver = webdriver.Chrome()\n",
    "url = \"https://www.barchart.com/investing-ideas/penny-stocks?orderBy=percentChange5d&orderDir=desc\"\n",
    "driver.get(url)\n",
    "\n",
    "# wait for the cookie pop-up to appear and accept it\n",
    "cookie_popup = WebDriverWait(driver, 20).until(\n",
    "    EC.presence_of_element_located((By.CSS_SELECTOR, \"button.Button__StyledButton-a1qza5-0.jULvxY\")))\n",
    "cookie_popup.click()\n",
    "\n",
    "\n",
    "# wait for the grid to appear\n",
    "grid = WebDriverWait(driver, 20).until(\n",
    "    EC.presence_of_element_located((By.ID, \"_grid\")))\n",
    "\n",
    "# extract the data from the grid using BeautifulSoup\n",
    "soup = BeautifulSoup(driver.page_source, 'html.parser')\n",
    "grid_table = soup.select_one(\"._grid\")\n",
    "rows = grid_table.select(\"tr\")\n",
    "\n",
    "# extract the data from each row\n",
    "for row in rows[1:]:\n",
    "    cells = row.select(\"td\")\n",
    "    ticker = cells[0].text.strip()\n",
    "    company = cells[1].text.strip()\n",
    "    last_price = cells[2].text.strip()\n",
    "    percent_change = cells[3].text.strip()\n",
    "    volume = cells[4].text.strip()\n",
    "    \n",
    "    print(f\"{ticker}, {company}, {last_price}, {percent_change}, {volume}\")\n"
   ]
  },
  {
   "cell_type": "code",
   "execution_count": null,
   "metadata": {},
   "outputs": [],
   "source": []
  },
  {
   "cell_type": "code",
   "execution_count": null,
   "metadata": {},
   "outputs": [],
   "source": []
  }
 ],
 "metadata": {
  "kernelspec": {
   "display_name": "Python 3",
   "language": "python",
   "name": "python3"
  },
  "language_info": {
   "codemirror_mode": {
    "name": "ipython",
    "version": 3
   },
   "file_extension": ".py",
   "mimetype": "text/x-python",
   "name": "python",
   "nbconvert_exporter": "python",
   "pygments_lexer": "ipython3",
   "version": "3.10.11"
  },
  "orig_nbformat": 4,
  "vscode": {
   "interpreter": {
    "hash": "4c4b7abad336165b8b52684b07a1890cb56f9af1b6a4eff176a255c515c54d9f"
   }
  }
 },
 "nbformat": 4,
 "nbformat_minor": 2
}
