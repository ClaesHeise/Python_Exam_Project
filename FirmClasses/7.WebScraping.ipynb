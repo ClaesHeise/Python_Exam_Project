{
 "cells": [
  {
   "cell_type": "code",
   "execution_count": 1,
   "metadata": {},
   "outputs": [
    {
     "name": "stdout",
     "output_type": "stream",
     "text": [
      "[<FirmClass.Firm object at 0x00000293A9A80C70>, <FirmClass.Firm object at 0x00000293A9A80C10>, <FirmClass.Firm object at 0x00000293A9A80BE0>, <FirmClass.Firm object at 0x00000293A9A80760>, <FirmClass.Firm object at 0x00000293A9A80940>, <FirmClass.Firm object at 0x00000293A9A80A90>, <FirmClass.Firm object at 0x00000293A9A80CA0>, <FirmClass.Firm object at 0x00000293A9A80D90>, <FirmClass.Firm object at 0x00000293A9A80DF0>, <FirmClass.Firm object at 0x00000293A9A80E50>, <FirmClass.Firm object at 0x00000293A9A80EB0>, <FirmClass.Firm object at 0x00000293A9A80F10>, <FirmClass.Firm object at 0x00000293A9A80F70>, <FirmClass.Firm object at 0x00000293A9A80FD0>, <FirmClass.Firm object at 0x00000293A9A81030>, <FirmClass.Firm object at 0x00000293A9A81090>, <FirmClass.Firm object at 0x00000293A9A810F0>, <FirmClass.Firm object at 0x00000293A9A81150>, <FirmClass.Firm object at 0x00000293A9A811B0>, <FirmClass.Firm object at 0x00000293A9A81210>, <FirmClass.Firm object at 0x00000293A9A81270>, <FirmClass.Firm object at 0x00000293A9A812D0>, <FirmClass.Firm object at 0x00000293A9A81330>, <FirmClass.Firm object at 0x00000293A9A81390>, <FirmClass.Firm object at 0x00000293A9A813F0>, <FirmClass.Firm object at 0x00000293A9A81450>, <FirmClass.Firm object at 0x00000293A9A814B0>, <FirmClass.Firm object at 0x00000293A9A81510>, <FirmClass.Firm object at 0x00000293A9A81570>, <FirmClass.Firm object at 0x00000293A9A815D0>, <FirmClass.Firm object at 0x00000293A9A81630>, <FirmClass.Firm object at 0x00000293A9A81690>, <FirmClass.Firm object at 0x00000293A9A816F0>, <FirmClass.Firm object at 0x00000293A9A81750>, <FirmClass.Firm object at 0x00000293A9A817B0>, <FirmClass.Firm object at 0x00000293A9A81810>, <FirmClass.Firm object at 0x00000293A9A81870>, <FirmClass.Firm object at 0x00000293A9A818D0>, <FirmClass.Firm object at 0x00000293A9A81930>, <FirmClass.Firm object at 0x00000293A9A81990>, <FirmClass.Firm object at 0x00000293A9A819F0>, <FirmClass.Firm object at 0x00000293A9A81A50>, <FirmClass.Firm object at 0x00000293A9A81AB0>, <FirmClass.Firm object at 0x00000293A9A81B10>, <FirmClass.Firm object at 0x00000293A9A81B70>, <FirmClass.Firm object at 0x00000293A9A81BD0>, <FirmClass.Firm object at 0x00000293A9A81C30>, <FirmClass.Firm object at 0x00000293A9A81C90>, <FirmClass.Firm object at 0x00000293A9A81CF0>, <FirmClass.Firm object at 0x00000293A9A81D50>, <FirmClass.Firm object at 0x00000293A9A81DB0>, <FirmClass.Firm object at 0x00000293A9A81E10>, <FirmClass.Firm object at 0x00000293A9A81E70>, <FirmClass.Firm object at 0x00000293A9A81ED0>, <FirmClass.Firm object at 0x00000293A9A81F30>, <FirmClass.Firm object at 0x00000293A9A81F90>, <FirmClass.Firm object at 0x00000293A9A81FF0>, <FirmClass.Firm object at 0x00000293A9A82050>, <FirmClass.Firm object at 0x00000293A9A820B0>, <FirmClass.Firm object at 0x00000293A9A82110>, <FirmClass.Firm object at 0x00000293A9A82170>, <FirmClass.Firm object at 0x00000293A9A821D0>, <FirmClass.Firm object at 0x00000293A9A82230>, <FirmClass.Firm object at 0x00000293A9A82290>, <FirmClass.Firm object at 0x00000293A9A822F0>, <FirmClass.Firm object at 0x00000293A9A82350>, <FirmClass.Firm object at 0x00000293A9A823B0>, <FirmClass.Firm object at 0x00000293A9A82410>, <FirmClass.Firm object at 0x00000293A9A82470>, <FirmClass.Firm object at 0x00000293A9A824D0>, <FirmClass.Firm object at 0x00000293A9A82530>, <FirmClass.Firm object at 0x00000293A9A82590>, <FirmClass.Firm object at 0x00000293A9A825F0>, <FirmClass.Firm object at 0x00000293A9A82650>, <FirmClass.Firm object at 0x00000293A9A826B0>, <FirmClass.Firm object at 0x00000293A9A82710>, <FirmClass.Firm object at 0x00000293A9A82770>, <FirmClass.Firm object at 0x00000293A9A827D0>, <FirmClass.Firm object at 0x00000293A9A82830>, <FirmClass.Firm object at 0x00000293A9A82890>, <FirmClass.Firm object at 0x00000293A9A828F0>, <FirmClass.Firm object at 0x00000293A9A82950>, <FirmClass.Firm object at 0x00000293A9A829B0>, <FirmClass.Firm object at 0x00000293A9A82A10>, <FirmClass.Firm object at 0x00000293A9A82A70>, <FirmClass.Firm object at 0x00000293A9A82AD0>, <FirmClass.Firm object at 0x00000293A9A82B30>, <FirmClass.Firm object at 0x00000293A9A82B90>, <FirmClass.Firm object at 0x00000293A9A82BF0>, <FirmClass.Firm object at 0x00000293A9A82C50>, <FirmClass.Firm object at 0x00000293A9A82CB0>, <FirmClass.Firm object at 0x00000293A9A82D10>, <FirmClass.Firm object at 0x00000293A9A82D70>, <FirmClass.Firm object at 0x00000293A9A82DD0>, <FirmClass.Firm object at 0x00000293A9A82E30>, <FirmClass.Firm object at 0x00000293A9A82E90>, <FirmClass.Firm object at 0x00000293A9A82EF0>, <FirmClass.Firm object at 0x00000293A9A82F50>, <FirmClass.Firm object at 0x00000293A9A82FB0>, <FirmClass.Firm object at 0x00000293A9A83010>]\n",
      "Error: list index out of range\n",
      "Error: list index out of range\n",
      "Error: list index out of range\n",
      "Hello2\n"
     ]
    }
   ],
   "source": [
    "from selenium import webdriver\n",
    "from selenium.webdriver.common.by import By\n",
    "from selenium.webdriver.support.ui import WebDriverWait\n",
    "from selenium.webdriver.support import expected_conditions as EC\n",
    "import time\n",
    "from bs4 import BeautifulSoup\n",
    "from FirmClass import Firm\n",
    "import re\n",
    "from AllFirmsClass import AllFirms\n",
    "import TestProgram\n",
    "\n",
    "# Set up the browser\n",
    "driver = webdriver.Chrome()\n",
    "url = \"https://www.marketbeat.com/types-of-stock/penny-stocks/\"\n",
    "driver.get(url)\n",
    "\n",
    "all_firms = AllFirms()\n",
    "all_firms.firms = TestProgram.firms_from_csv()\n",
    "\n",
    "# Wait for the grid to load\n",
    "wait = WebDriverWait(driver, 10)\n",
    "grid_element = wait.until(EC.presence_of_element_located((By.CSS_SELECTOR,'#cphPrimaryContent_pnlFilterTable > div.scroll-table-wrapper-wrapper > div > table')))\n",
    "\n",
    "# Extract the page source\n",
    "html = driver.page_source\n",
    "\n",
    "# Use Beautiful Soup for parsing\n",
    "soup = BeautifulSoup(html, 'html.parser')\n",
    "table = soup.find('table', class_='scroll-table sort-table fixed-header')\n",
    "rows = table.find(\"tbody\").find_all(\"tr\")\n",
    "\n",
    "print(all_firms.firms)\n",
    "# Find the grid rows and extract information\n",
    "for row in rows:\n",
    "    cells = row.find_all(\"td\")\n",
    "    try:\n",
    "        scraped_string = cells[0].get_text()\n",
    "        scraped_int = re.search(r'\\d+(?:\\.\\d+)?', cells[1].get_text())\n",
    "        if scraped_int:\n",
    "            scraped_int = float(scraped_int.group())\n",
    "        else:\n",
    "            # Handle cases where the numeric part couldn't be extracted\n",
    "            scraped_int = None\n",
    "        \n",
    "        instance = Firm(scraped_string, [scraped_int])\n",
    "        \n",
    "        i = 0\n",
    "        for index in range(len(all_firms.firms)):\n",
    "            if all_firms.firms[index].name == scraped_string:\n",
    "                all_firms.firms[index].prices.append(scraped_int)\n",
    "                i = 1 \n",
    "        if i == 0:\n",
    "            all_firms.firms.append(instance)\n",
    "    except Exception as e:\n",
    "        print(\"Error:\", e)\n",
    "\n",
    "# Clean up\n",
    "driver.quit()\n",
    "\n",
    "# Print the extracted data\n",
    "# for instance in all_firms.firms:\n",
    "    #print(instance.name)\n",
    "    #print(instance.prices)\n",
    "    #print()\n",
    "all_firms.firms_to_csv()\n"
   ]
  },
  {
   "cell_type": "code",
   "execution_count": null,
   "metadata": {},
   "outputs": [],
   "source": []
  }
 ],
 "metadata": {
  "kernelspec": {
   "display_name": "Python 3",
   "language": "python",
   "name": "python3"
  },
  "language_info": {
   "codemirror_mode": {
    "name": "ipython",
    "version": 3
   },
   "file_extension": ".py",
   "mimetype": "text/x-python",
   "name": "python",
   "nbconvert_exporter": "python",
   "pygments_lexer": "ipython3",
   "version": "3.10.11"
  },
  "orig_nbformat": 4,
  "vscode": {
   "interpreter": {
    "hash": "4c4b7abad336165b8b52684b07a1890cb56f9af1b6a4eff176a255c515c54d9f"
   }
  }
 },
 "nbformat": 4,
 "nbformat_minor": 2
}
